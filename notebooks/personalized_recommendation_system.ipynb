{
 "cells": [
  {
   "cell_type": "code",
   "execution_count": 1,
   "id": "626065a8",
   "metadata": {},
   "outputs": [
    {
     "name": "stdout",
     "output_type": "stream",
     "text": [
      "Predicted Risk: medium_risk\n",
      "Recommendation: ⚠️ Increase physical activity and monitor diet. Schedule a medical consultation.\n"
     ]
    }
   ],
   "source": [
    "import joblib\n",
    "import pandas as pd\n",
    "\n",
    "# ✅ Correct paths to your files\n",
    "model = joblib.load(\"../models/logistic_regression_pipeline.pkl\")\n",
    "df = pd.read_csv(\"../data/cleaned_blood_data.csv\")\n",
    "\n",
    "# ✅ Drop label column if present\n",
    "X = df.drop(columns=[\"RiskLevel\"]) if \"RiskLevel\" in df.columns else df.copy()\n",
    "\n",
    "# ✅ Risk level label mapping\n",
    "label_mapping = {0: \"low_risk\", 1: \"medium_risk\", 2: \"high_risk\"}\n",
    "\n",
    "\n",
    "# ✅ Recommendation logic\n",
    "def generate_recommendation(prediction_label):\n",
    "    recommendations = {\n",
    "        \"low_risk\": \"✅ Maintain current lifestyle. Regular annual check-ups recommended.\",\n",
    "        \"medium_risk\": \"⚠️ Increase physical activity and monitor diet. Schedule a medical consultation.\",\n",
    "        \"high_risk\": \"🚨 Immediate medical attention advised. Begin treatment under supervision.\",\n",
    "    }\n",
    "    return recommendations.get(prediction_label, \"❓ No recommendation available.\")\n",
    "\n",
    "\n",
    "# ✅ Prediction wrapper\n",
    "def get_output(user_input_df):\n",
    "    raw_pred = model.predict(user_input_df)[0]\n",
    "    predicted_label = label_mapping.get(raw_pred, \"unknown\")\n",
    "    recommendation = generate_recommendation(predicted_label)\n",
    "    return {\"risk_level\": predicted_label, \"advice\": recommendation}\n",
    "\n",
    "\n",
    "# ✅ Run prediction on a sample\n",
    "sample = X.iloc[[0]]\n",
    "result = get_output(sample)\n",
    "\n",
    "# ✅ Display result\n",
    "print(\"Predicted Risk:\", result[\"risk_level\"])\n",
    "print(\"Recommendation:\", result[\"advice\"])"
   ]
  }
 ],
 "metadata": {
  "kernelspec": {
   "display_name": "venv",
   "language": "python",
   "name": "python3"
  },
  "language_info": {
   "codemirror_mode": {
    "name": "ipython",
    "version": 3
   },
   "file_extension": ".py",
   "mimetype": "text/x-python",
   "name": "python",
   "nbconvert_exporter": "python",
   "pygments_lexer": "ipython3",
   "version": "3.10.9"
  }
 },
 "nbformat": 4,
 "nbformat_minor": 5
}
